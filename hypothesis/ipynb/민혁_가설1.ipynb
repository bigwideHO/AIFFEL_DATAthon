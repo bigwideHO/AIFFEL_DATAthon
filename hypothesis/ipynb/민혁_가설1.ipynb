{
 "cells": [
  {
   "cell_type": "markdown",
   "metadata": {},
   "source": [
    "# 가설 1 검증 시도\n",
    "\n",
    "1. 어린이집이나 공원이 아파트와 가까우면 가격이 오르지 않을까?\n",
    "- 검증 방법:\n",
    "- 사용한 분석 기법:\n",
    "- 사용한 모델:"
   ]
  },
  {
   "cell_type": "code",
   "execution_count": null,
   "metadata": {},
   "outputs": [],
   "source": [
    "import pandas as pd"
   ]
  }
 ],
 "metadata": {
  "language_info": {
   "name": "python"
  }
 },
 "nbformat": 4,
 "nbformat_minor": 2
}
